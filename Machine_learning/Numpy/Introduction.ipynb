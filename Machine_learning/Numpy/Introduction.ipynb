{
 "cells": [
  {
   "cell_type": "markdown",
   "id": "1459fb3d-4f7d-4a4b-a46e-486e468044be",
   "metadata": {},
   "source": [
    "## Numpy friendly introduction"
   ]
  },
  {
   "cell_type": "code",
   "execution_count": 1,
   "id": "234af465-4974-4e48-99b7-466f8973ed9f",
   "metadata": {},
   "outputs": [],
   "source": [
    "import numpy as np"
   ]
  },
  {
   "cell_type": "code",
   "execution_count": 2,
   "id": "76bd8833-9844-4dc6-80de-fec76969acff",
   "metadata": {},
   "outputs": [],
   "source": [
    "# List in python\n",
    "\n",
    "mylist = [1, 2, 3]"
   ]
  },
  {
   "cell_type": "code",
   "execution_count": 3,
   "id": "1973c277-3a4a-4da9-8b0d-652c129af546",
   "metadata": {},
   "outputs": [
    {
     "data": {
      "text/plain": [
       "list"
      ]
     },
     "execution_count": 3,
     "metadata": {},
     "output_type": "execute_result"
    }
   ],
   "source": [
    "type(mylist)"
   ]
  },
  {
   "cell_type": "code",
   "execution_count": 4,
   "id": "df5fe769-6d3b-42c0-a405-52d8b97a1286",
   "metadata": {},
   "outputs": [
    {
     "data": {
      "text/plain": [
       "array([1, 2, 3])"
      ]
     },
     "execution_count": 4,
     "metadata": {},
     "output_type": "execute_result"
    }
   ],
   "source": [
    "# array in python\n",
    "\n",
    "np.array(mylist)"
   ]
  },
  {
   "cell_type": "code",
   "execution_count": 5,
   "id": "e02ba874-914c-4f3c-aa65-f3c1e952c939",
   "metadata": {},
   "outputs": [],
   "source": [
    "arr = np.array(mylist)"
   ]
  },
  {
   "cell_type": "code",
   "execution_count": 6,
   "id": "34fa1b41-e99e-468c-b50a-d47b56d3219a",
   "metadata": {},
   "outputs": [
    {
     "data": {
      "text/plain": [
       "numpy.ndarray"
      ]
     },
     "execution_count": 6,
     "metadata": {},
     "output_type": "execute_result"
    }
   ],
   "source": [
    "type(arr)"
   ]
  },
  {
   "cell_type": "code",
   "execution_count": 13,
   "id": "4033f5f7-c910-4831-9fc0-a04b48819c1c",
   "metadata": {},
   "outputs": [
    {
     "data": {
      "text/plain": [
       "array([[1, 2, 3],\n",
       "       [4, 5, 6],\n",
       "       [7, 8, 9]])"
      ]
     },
     "execution_count": 13,
     "metadata": {},
     "output_type": "execute_result"
    }
   ],
   "source": [
    "# 2 dimension array\n",
    "\n",
    "mylist1 = [[1,2,3], [4,5,6], [7,8,9]]\n",
    "np.array(mylist1)"
   ]
  },
  {
   "cell_type": "code",
   "execution_count": 14,
   "id": "f7aab021-7093-482b-8688-650d3ce4728b",
   "metadata": {},
   "outputs": [],
   "source": [
    "mymatrix = np.array(mylist1)"
   ]
  },
  {
   "cell_type": "code",
   "execution_count": 15,
   "id": "cba8b1df-cd1b-43cb-bc2a-aba9e7734200",
   "metadata": {},
   "outputs": [
    {
     "data": {
      "text/plain": [
       "(3, 3)"
      ]
     },
     "execution_count": 15,
     "metadata": {},
     "output_type": "execute_result"
    }
   ],
   "source": [
    "mymatrix.shape"
   ]
  },
  {
   "cell_type": "markdown",
   "id": "d12343b6-f169-4958-8cd7-f6f2b58f69ae",
   "metadata": {},
   "source": [
    "### Create arrays"
   ]
  },
  {
   "cell_type": "code",
   "execution_count": 17,
   "id": "d017d105-8ca0-4ab6-9042-91f608be6b6b",
   "metadata": {},
   "outputs": [
    {
     "data": {
      "text/plain": [
       "array([0, 2, 4, 6, 8])"
      ]
     },
     "execution_count": 17,
     "metadata": {},
     "output_type": "execute_result"
    }
   ],
   "source": [
    "np.arange(0, 10, 2)"
   ]
  },
  {
   "cell_type": "code",
   "execution_count": 22,
   "id": "2f0f1852-9ece-4477-85d0-0801708f5254",
   "metadata": {},
   "outputs": [
    {
     "data": {
      "text/plain": [
       "array([[0., 0., 0.],\n",
       "       [0., 0., 0.],\n",
       "       [0., 0., 0.]])"
      ]
     },
     "execution_count": 22,
     "metadata": {},
     "output_type": "execute_result"
    }
   ],
   "source": [
    "np.zeros((3,3))"
   ]
  },
  {
   "cell_type": "code",
   "execution_count": 29,
   "id": "dcde9042-a764-4900-bb9c-7e38b449bfff",
   "metadata": {},
   "outputs": [
    {
     "data": {
      "text/plain": [
       "array([[1., 1.],\n",
       "       [1., 1.]])"
      ]
     },
     "execution_count": 29,
     "metadata": {},
     "output_type": "execute_result"
    }
   ],
   "source": [
    "np.ones((2,2)) "
   ]
  },
  {
   "cell_type": "code",
   "execution_count": 30,
   "id": "3fb52a80-b0d9-438a-88be-89f79590f429",
   "metadata": {},
   "outputs": [
    {
     "data": {
      "text/plain": [
       "array([[4., 4., 4., 4., 4.],\n",
       "       [4., 4., 4., 4., 4.],\n",
       "       [4., 4., 4., 4., 4.],\n",
       "       [4., 4., 4., 4., 4.],\n",
       "       [4., 4., 4., 4., 4.]])"
      ]
     },
     "execution_count": 30,
     "metadata": {},
     "output_type": "execute_result"
    }
   ],
   "source": [
    "np.ones((5,5)) + 3"
   ]
  },
  {
   "cell_type": "markdown",
   "id": "4196981c-2380-4470-ac3a-17284fa4a479",
   "metadata": {},
   "source": [
    "### Broadcasting operations in numpy"
   ]
  },
  {
   "cell_type": "code",
   "execution_count": 31,
   "id": "00460b7b-2200-4d30-a0f3-413e92ae30a6",
   "metadata": {},
   "outputs": [
    {
     "data": {
      "text/plain": [
       "array([[8., 8., 8.],\n",
       "       [8., 8., 8.]])"
      ]
     },
     "execution_count": 31,
     "metadata": {},
     "output_type": "execute_result"
    }
   ],
   "source": [
    "np.ones((2,3)) * 8"
   ]
  },
  {
   "cell_type": "markdown",
   "id": "d770122c-8417-46f6-9e2f-56ca37a11718",
   "metadata": {},
   "source": [
    "### Creating Arrays randonly"
   ]
  },
  {
   "cell_type": "code",
   "execution_count": 28,
   "id": "de364536-2679-4c9c-9780-a7e930495fa4",
   "metadata": {},
   "outputs": [
    {
     "data": {
      "text/plain": [
       "array([ 0. ,  2.5,  5. ,  7.5, 10. ])"
      ]
     },
     "execution_count": 28,
     "metadata": {},
     "output_type": "execute_result"
    }
   ],
   "source": [
    "np.linspace(0,10,5)"
   ]
  },
  {
   "cell_type": "code",
   "execution_count": 32,
   "id": "986d8bcb-139d-42ed-a462-a81d16009fc9",
   "metadata": {},
   "outputs": [
    {
     "data": {
      "text/plain": [
       "array([[1., 0., 0., 0., 0.],\n",
       "       [0., 1., 0., 0., 0.],\n",
       "       [0., 0., 1., 0., 0.],\n",
       "       [0., 0., 0., 1., 0.],\n",
       "       [0., 0., 0., 0., 1.]])"
      ]
     },
     "execution_count": 32,
     "metadata": {},
     "output_type": "execute_result"
    }
   ],
   "source": [
    "np.eye(5)"
   ]
  },
  {
   "cell_type": "code",
   "execution_count": 36,
   "id": "6a7fba0d-35be-4367-8680-ab2610660c90",
   "metadata": {},
   "outputs": [
    {
     "data": {
      "text/plain": [
       "array([[1., 2., 3.],\n",
       "       [4., 5., 6.],\n",
       "       [7., 8., 9.]])"
      ]
     },
     "execution_count": 36,
     "metadata": {},
     "output_type": "execute_result"
    }
   ],
   "source": [
    "# Matrix Multiplication\n",
    "\n",
    "mymatrix.dot(np.eye(3))"
   ]
  },
  {
   "cell_type": "code",
   "execution_count": 37,
   "id": "0a6bece9-4e6e-474c-aa19-32881fab9722",
   "metadata": {},
   "outputs": [
    {
     "data": {
      "text/plain": [
       "array([0.31046299, 0.9775774 , 0.46078637, 0.03160676, 0.30213121,\n",
       "       0.13070927, 0.28101771, 0.35569142, 0.6031254 , 0.51090045])"
      ]
     },
     "execution_count": 37,
     "metadata": {},
     "output_type": "execute_result"
    }
   ],
   "source": [
    "np.random.rand(10)"
   ]
  },
  {
   "cell_type": "code",
   "execution_count": 46,
   "id": "57958369-4d7b-47eb-bb20-b357b0555af1",
   "metadata": {},
   "outputs": [
    {
     "data": {
      "text/plain": [
       "array([15, 43, 46, 36, 34, 78, 32, 45, 13, 12])"
      ]
     },
     "execution_count": 46,
     "metadata": {},
     "output_type": "execute_result"
    }
   ],
   "source": [
    "np.random.randint(1,100, 10)"
   ]
  },
  {
   "cell_type": "code",
   "execution_count": 49,
   "id": "78136694-6859-4caf-b343-06ff75678a7f",
   "metadata": {},
   "outputs": [
    {
     "data": {
      "text/plain": [
       "array([0.37454012, 0.95071431, 0.73199394, 0.59865848, 0.15601864,\n",
       "       0.15599452, 0.05808361, 0.86617615, 0.60111501, 0.70807258])"
      ]
     },
     "execution_count": 49,
     "metadata": {},
     "output_type": "execute_result"
    }
   ],
   "source": [
    "np.random.seed(42)\n",
    "np.random.rand(10)"
   ]
  },
  {
   "cell_type": "markdown",
   "id": "baa5379a-2d90-41e8-a05b-b8edc78ab977",
   "metadata": {},
   "source": [
    "### Reshape"
   ]
  },
  {
   "cell_type": "code",
   "execution_count": 52,
   "id": "2a6bd430-0c56-47ee-a0d9-fb1e3c24263b",
   "metadata": {},
   "outputs": [],
   "source": [
    "np.random.seed(42)\n",
    "m = np.random.rand(10)"
   ]
  },
  {
   "cell_type": "code",
   "execution_count": 53,
   "id": "9effd15d-c52e-495d-9e89-d62c445eef3b",
   "metadata": {},
   "outputs": [
    {
     "data": {
      "text/plain": [
       "array([[0.37454012, 0.95071431],\n",
       "       [0.73199394, 0.59865848],\n",
       "       [0.15601864, 0.15599452],\n",
       "       [0.05808361, 0.86617615],\n",
       "       [0.60111501, 0.70807258]])"
      ]
     },
     "execution_count": 53,
     "metadata": {},
     "output_type": "execute_result"
    }
   ],
   "source": [
    "m.reshape(5,2)"
   ]
  },
  {
   "cell_type": "markdown",
   "id": "f8ec7558-eb9c-4e4f-96ff-664bee64a145",
   "metadata": {},
   "source": [
    "### Metrics (max, min)"
   ]
  },
  {
   "cell_type": "code",
   "execution_count": 55,
   "id": "ee61cda6-80a0-425c-9fd7-4724c36083f7",
   "metadata": {},
   "outputs": [
    {
     "data": {
      "text/plain": [
       "0.9507143064099162"
      ]
     },
     "execution_count": 55,
     "metadata": {},
     "output_type": "execute_result"
    }
   ],
   "source": [
    "m.max()"
   ]
  },
  {
   "cell_type": "code",
   "execution_count": 56,
   "id": "bccd0d0d-edbb-4581-b91b-75cf404ad7c0",
   "metadata": {},
   "outputs": [
    {
     "data": {
      "text/plain": [
       "0.05808361216819946"
      ]
     },
     "execution_count": 56,
     "metadata": {},
     "output_type": "execute_result"
    }
   ],
   "source": [
    "m.min()"
   ]
  },
  {
   "cell_type": "markdown",
   "id": "db8d5c9b-eb4f-46d1-a947-e540c8c2f606",
   "metadata": {},
   "source": [
    "### Index Location"
   ]
  },
  {
   "cell_type": "code",
   "execution_count": 57,
   "id": "4967e807-c2b1-4a78-849b-12ce98738e60",
   "metadata": {},
   "outputs": [
    {
     "data": {
      "text/plain": [
       "1"
      ]
     },
     "execution_count": 57,
     "metadata": {},
     "output_type": "execute_result"
    }
   ],
   "source": [
    "m.argmax()"
   ]
  },
  {
   "cell_type": "code",
   "execution_count": 58,
   "id": "eeb2a76d-e906-45e4-b815-394e9574775e",
   "metadata": {},
   "outputs": [
    {
     "data": {
      "text/plain": [
       "6"
      ]
     },
     "execution_count": 58,
     "metadata": {},
     "output_type": "execute_result"
    }
   ],
   "source": [
    "m.argmin()"
   ]
  },
  {
   "cell_type": "markdown",
   "id": "5f35b7a7-92c5-4b1a-9406-3a2d87aed066",
   "metadata": {},
   "source": []
  }
 ],
 "metadata": {
  "kernelspec": {
   "display_name": "Python 3.10",
   "language": "python",
   "name": "python310"
  },
  "language_info": {
   "codemirror_mode": {
    "name": "ipython",
    "version": 3
   },
   "file_extension": ".py",
   "mimetype": "text/x-python",
   "name": "python",
   "nbconvert_exporter": "python",
   "pygments_lexer": "ipython3",
   "version": "3.10.11"
  }
 },
 "nbformat": 4,
 "nbformat_minor": 5
}
