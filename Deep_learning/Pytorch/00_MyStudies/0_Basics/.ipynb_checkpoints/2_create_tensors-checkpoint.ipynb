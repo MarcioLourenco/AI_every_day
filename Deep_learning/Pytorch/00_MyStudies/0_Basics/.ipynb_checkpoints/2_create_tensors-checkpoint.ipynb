{
 "cells": [
  {
   "cell_type": "code",
   "execution_count": 2,
   "id": "98b2c45e-91c6-49db-8f95-55b543683854",
   "metadata": {},
   "outputs": [],
   "source": [
    "import torch\n",
    "import numpy as np"
   ]
  },
  {
   "cell_type": "code",
   "execution_count": 4,
   "id": "9f53304b-0b62-403d-bd63-c9150be8a3ed",
   "metadata": {},
   "outputs": [
    {
     "data": {
      "text/plain": [
       "array([1, 2, 3])"
      ]
     },
     "execution_count": 4,
     "metadata": {},
     "output_type": "execute_result"
    }
   ],
   "source": [
    "new_arr = np.array([1,2,3])\n",
    "new_arr"
   ]
  },
  {
   "cell_type": "markdown",
   "id": "dc2194e5-3aff-4106-ad72-0e7ff197ec3d",
   "metadata": {},
   "source": [
    "### Diference between Tensor and tensor\n",
    "* Tensor is the shortcut of FloatTensor"
   ]
  },
  {
   "cell_type": "code",
   "execution_count": 5,
   "id": "647561a4-9175-4229-9ac5-9c9dbff897cc",
   "metadata": {},
   "outputs": [
    {
     "data": {
      "text/plain": [
       "tensor([1, 2, 3], dtype=torch.int32)"
      ]
     },
     "execution_count": 5,
     "metadata": {},
     "output_type": "execute_result"
    }
   ],
   "source": [
    "torch.tensor(new_arr)"
   ]
  },
  {
   "cell_type": "code",
   "execution_count": 6,
   "id": "ad9cce15-4960-4a90-9567-bfc91a4fac66",
   "metadata": {},
   "outputs": [
    {
     "data": {
      "text/plain": [
       "tensor([1., 2., 3.])"
      ]
     },
     "execution_count": 6,
     "metadata": {},
     "output_type": "execute_result"
    }
   ],
   "source": [
    "torch.Tensor(new_arr)"
   ]
  },
  {
   "cell_type": "markdown",
   "id": "b312dcf5-dd7a-47d7-94df-a515df9e4d6c",
   "metadata": {},
   "source": [
    "### Creating Tensor"
   ]
  },
  {
   "cell_type": "code",
   "execution_count": 8,
   "id": "c9e8cd1f-afbb-4dc1-9202-576ac64028a5",
   "metadata": {},
   "outputs": [
    {
     "data": {
      "text/plain": [
       "tensor([[1.0502e-05, 1.0617e-08],\n",
       "        [4.2293e-05, 1.3341e-08],\n",
       "        [5.2893e+22, 1.6917e-04],\n",
       "        [4.2129e+21, 1.3369e+22]])"
      ]
     },
     "execution_count": 8,
     "metadata": {},
     "output_type": "execute_result"
    }
   ],
   "source": [
    "# placeholder - save the memory you will need\n",
    "\n",
    "torch.empty(4,2)"
   ]
  },
  {
   "cell_type": "code",
   "execution_count": 10,
   "id": "3fadc634-7ef5-469f-9950-7f55b3a68b19",
   "metadata": {},
   "outputs": [
    {
     "data": {
      "text/plain": [
       "tensor([[0, 0, 0],\n",
       "        [0, 0, 0],\n",
       "        [0, 0, 0],\n",
       "        [0, 0, 0]])"
      ]
     },
     "execution_count": 10,
     "metadata": {},
     "output_type": "execute_result"
    }
   ],
   "source": [
    "torch.zeros(4,3,dtype=torch.int64)"
   ]
  },
  {
   "cell_type": "code",
   "execution_count": 12,
   "id": "44710bba-6dbc-4e69-b40d-18c39411347b",
   "metadata": {},
   "outputs": [
    {
     "data": {
      "text/plain": [
       "tensor([[1., 1., 1.],\n",
       "        [1., 1., 1.],\n",
       "        [1., 1., 1.],\n",
       "        [1., 1., 1.]])"
      ]
     },
     "execution_count": 12,
     "metadata": {},
     "output_type": "execute_result"
    }
   ],
   "source": [
    "torch.ones(4,3)"
   ]
  },
  {
   "cell_type": "code",
   "execution_count": 14,
   "id": "86ab4f65-ebd5-4077-84b3-a87c9cf507ea",
   "metadata": {},
   "outputs": [
    {
     "data": {
      "text/plain": [
       "tensor([[ 0,  2,  4],\n",
       "        [ 6,  8, 10],\n",
       "        [12, 14, 16]])"
      ]
     },
     "execution_count": 14,
     "metadata": {},
     "output_type": "execute_result"
    }
   ],
   "source": [
    "torch.arange(0,18, 2).reshape(3,3)"
   ]
  },
  {
   "cell_type": "code",
   "execution_count": 18,
   "id": "e2249e7e-331d-460a-bbfd-fae7c97a3dcf",
   "metadata": {},
   "outputs": [
    {
     "data": {
      "text/plain": [
       "tensor([ 0.,  2.,  4.,  6.,  8., 10., 12., 14., 16., 18.])"
      ]
     },
     "execution_count": 18,
     "metadata": {},
     "output_type": "execute_result"
    }
   ],
   "source": [
    "torch.linspace(0,18, 10)"
   ]
  },
  {
   "cell_type": "code",
   "execution_count": 19,
   "id": "f5b6e6eb-12c2-4098-9576-e667206b86d3",
   "metadata": {},
   "outputs": [
    {
     "data": {
      "text/plain": [
       "tensor([1, 2, 3])"
      ]
     },
     "execution_count": 19,
     "metadata": {},
     "output_type": "execute_result"
    }
   ],
   "source": [
    "torch.tensor([1,2,3])"
   ]
  },
  {
   "cell_type": "code",
   "execution_count": 20,
   "id": "a6f1960f-d292-44f2-af9a-aa44fbe5d164",
   "metadata": {},
   "outputs": [
    {
     "data": {
      "text/plain": [
       "torch.int64"
      ]
     },
     "execution_count": 20,
     "metadata": {},
     "output_type": "execute_result"
    }
   ],
   "source": [
    "my_torch = torch.tensor([1,2,3])\n",
    "my_torch.dtype"
   ]
  },
  {
   "cell_type": "code",
   "execution_count": 23,
   "id": "d3068327-f102-47b4-a02c-9b06efcd88ac",
   "metadata": {},
   "outputs": [
    {
     "data": {
      "text/plain": [
       "torch.int32"
      ]
     },
     "execution_count": 23,
     "metadata": {},
     "output_type": "execute_result"
    }
   ],
   "source": [
    "# Change data type\n",
    "\n",
    "my_torch = my_torch.type(torch.int32)\n",
    "my_torch.dtype"
   ]
  },
  {
   "cell_type": "code",
   "execution_count": 24,
   "id": "86b9ac60-eb66-4fcf-b93f-c6e6509078b3",
   "metadata": {},
   "outputs": [
    {
     "data": {
      "text/plain": [
       "tensor([[0.7580, 0.0103, 0.4793],\n",
       "        [0.5499, 0.0947, 0.9718],\n",
       "        [0.0844, 0.4490, 0.6886],\n",
       "        [0.6842, 0.9852, 0.0631]])"
      ]
     },
     "execution_count": 24,
     "metadata": {},
     "output_type": "execute_result"
    }
   ],
   "source": [
    "torch.rand(4,3)"
   ]
  },
  {
   "cell_type": "code",
   "execution_count": 25,
   "id": "3c2925c7-a25f-4c73-a2af-f5ecb2551759",
   "metadata": {},
   "outputs": [
    {
     "data": {
      "text/plain": [
       "tensor([[-0.1772, -0.2497, -0.0786],\n",
       "        [-0.0481, -0.1472,  1.0249],\n",
       "        [ 0.2893, -0.2807, -2.1594],\n",
       "        [-0.1966,  0.5758, -0.2558]])"
      ]
     },
     "execution_count": 25,
     "metadata": {},
     "output_type": "execute_result"
    }
   ],
   "source": [
    "torch.randn(4,3)"
   ]
  },
  {
   "cell_type": "code",
   "execution_count": 31,
   "id": "e070b48d-7cf2-441c-bc52-af3ce10c85e3",
   "metadata": {},
   "outputs": [
    {
     "data": {
      "text/plain": [
       "tensor([[ 9,  8,  3,  5,  4],\n",
       "        [ 0,  9,  1,  8,  2],\n",
       "        [ 6,  7,  5,  7,  1],\n",
       "        [ 9,  0,  9,  5,  1],\n",
       "        [ 8, 10, 10,  7,  7]])"
      ]
     },
     "execution_count": 31,
     "metadata": {},
     "output_type": "execute_result"
    }
   ],
   "source": [
    "torch.randint(low=0, high=11, size=(5,5))"
   ]
  },
  {
   "cell_type": "code",
   "execution_count": 33,
   "id": "63436a68-c3da-4785-90e7-bd32d7295712",
   "metadata": {},
   "outputs": [
    {
     "data": {
      "text/plain": [
       "tensor([[0., 0., 0., 0., 0.],\n",
       "        [0., 0., 0., 0., 0.]])"
      ]
     },
     "execution_count": 33,
     "metadata": {},
     "output_type": "execute_result"
    }
   ],
   "source": [
    "x = torch.zeros(2,5)\n",
    "x"
   ]
  },
  {
   "cell_type": "code",
   "execution_count": 34,
   "id": "544d9ee8-8e1a-4c93-b4d9-af77713ec411",
   "metadata": {},
   "outputs": [
    {
     "data": {
      "text/plain": [
       "tensor([[0.5614, 0.8832, 0.5224, 0.2594, 0.1835],\n",
       "        [0.0801, 0.4002, 0.3770, 0.6136, 0.9898]])"
      ]
     },
     "execution_count": 34,
     "metadata": {},
     "output_type": "execute_result"
    }
   ],
   "source": [
    "torch.rand_like(x)"
   ]
  },
  {
   "cell_type": "code",
   "execution_count": 35,
   "id": "35d6d087-85b2-40b5-96ad-2466ba4c2be1",
   "metadata": {},
   "outputs": [
    {
     "data": {
      "text/plain": [
       "tensor([[ 0.4432, -0.6726,  0.3072, -1.2097, -0.2199],\n",
       "        [-0.5841, -0.6374, -1.4372, -0.6646, -1.2433]])"
      ]
     },
     "execution_count": 35,
     "metadata": {},
     "output_type": "execute_result"
    }
   ],
   "source": [
    "torch.randn_like(x)"
   ]
  },
  {
   "cell_type": "code",
   "execution_count": 37,
   "id": "ff19ec22-73b3-4697-aa56-64b24750ff13",
   "metadata": {},
   "outputs": [
    {
     "data": {
      "text/plain": [
       "tensor([[ 8.,  4.,  8.,  7.,  7.],\n",
       "        [10.,  2.,  5.,  8.,  1.]])"
      ]
     },
     "execution_count": 37,
     "metadata": {},
     "output_type": "execute_result"
    }
   ],
   "source": [
    "torch.randint_like(x, low=0, high=11)"
   ]
  },
  {
   "cell_type": "code",
   "execution_count": 41,
   "id": "6fc50ae2-891e-48f2-bdc0-221d85d97f10",
   "metadata": {},
   "outputs": [
    {
     "data": {
      "text/plain": [
       "tensor([[ 7,  2,  9,  6,  2],\n",
       "        [ 9, 10,  5,  5,  0],\n",
       "        [ 7,  6,  4, 10, 10],\n",
       "        [ 5,  2,  7,  4,  5],\n",
       "        [ 4,  9,  7,  6,  6]])"
      ]
     },
     "execution_count": 41,
     "metadata": {},
     "output_type": "execute_result"
    }
   ],
   "source": [
    "# Choose seed - will be always be exact same values\n",
    "\n",
    "torch.manual_seed(200)\n",
    "torch.randint(low=0, high=11, size=(5,5))"
   ]
  },
  {
   "cell_type": "code",
   "execution_count": null,
   "id": "2df0d5e9-c154-4e90-acb0-c93e2bd97cfd",
   "metadata": {},
   "outputs": [],
   "source": []
  }
 ],
 "metadata": {
  "kernelspec": {
   "display_name": "Python 3.10",
   "language": "python",
   "name": "python310"
  },
  "language_info": {
   "codemirror_mode": {
    "name": "ipython",
    "version": 3
   },
   "file_extension": ".py",
   "mimetype": "text/x-python",
   "name": "python",
   "nbconvert_exporter": "python",
   "pygments_lexer": "ipython3",
   "version": "3.10.11"
  }
 },
 "nbformat": 4,
 "nbformat_minor": 5
}
