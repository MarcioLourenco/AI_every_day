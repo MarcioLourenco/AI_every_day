{
 "cells": [
  {
   "cell_type": "code",
   "execution_count": 1,
   "id": "a64fe505-cfaf-4f77-83fe-c037eedf8ca4",
   "metadata": {},
   "outputs": [],
   "source": [
    "import torch\n",
    "import torch.nn as nn\n",
    "import torch.nn.functional as F\n",
    "\n",
    "from sklearn.model_selection import train_test_split\n",
    "\n",
    "import pandas as pd\n",
    "import matplotlib.pyplot as plt\n",
    "%matplotlib inline"
   ]
  },
  {
   "cell_type": "code",
   "execution_count": 2,
   "id": "ef0d856c-5219-4613-8788-67452095bf08",
   "metadata": {},
   "outputs": [],
   "source": [
    "class Model(nn.Module):\n",
    "    def __init__(self, in_features=4, h1=8, h2=9, out_features=3):\n",
    "        super().__init__()\n",
    "        self.fc1 = nn.Linear(in_features,h1)    # input layer\n",
    "        self.fc2 = nn.Linear(h1, h2)            # hidden layer\n",
    "        self.out = nn.Linear(h2, out_features)  # output layer\n",
    "        \n",
    "    def forward(self, x):\n",
    "        x = F.relu(self.fc1(x))\n",
    "        x = F.relu(self.fc2(x))\n",
    "        x = self.out(x)\n",
    "        return x"
   ]
  },
  {
   "cell_type": "code",
   "execution_count": 3,
   "id": "a3db8c9d-61c4-463b-a405-67d2ad8bb272",
   "metadata": {},
   "outputs": [],
   "source": [
    "torch.manual_seed(32)\n",
    "\n",
    "model = Model()"
   ]
  },
  {
   "cell_type": "code",
   "execution_count": 4,
   "id": "c3fe7ac0-657b-4695-9ed0-38462d475359",
   "metadata": {},
   "outputs": [
    {
     "data": {
      "text/html": [
       "<div>\n",
       "<style scoped>\n",
       "    .dataframe tbody tr th:only-of-type {\n",
       "        vertical-align: middle;\n",
       "    }\n",
       "\n",
       "    .dataframe tbody tr th {\n",
       "        vertical-align: top;\n",
       "    }\n",
       "\n",
       "    .dataframe thead th {\n",
       "        text-align: right;\n",
       "    }\n",
       "</style>\n",
       "<table border=\"1\" class=\"dataframe\">\n",
       "  <thead>\n",
       "    <tr style=\"text-align: right;\">\n",
       "      <th></th>\n",
       "      <th>sepal length (cm)</th>\n",
       "      <th>sepal width (cm)</th>\n",
       "      <th>petal length (cm)</th>\n",
       "      <th>petal width (cm)</th>\n",
       "      <th>target</th>\n",
       "    </tr>\n",
       "  </thead>\n",
       "  <tbody>\n",
       "    <tr>\n",
       "      <th>0</th>\n",
       "      <td>5.1</td>\n",
       "      <td>3.5</td>\n",
       "      <td>1.4</td>\n",
       "      <td>0.2</td>\n",
       "      <td>0.0</td>\n",
       "    </tr>\n",
       "    <tr>\n",
       "      <th>1</th>\n",
       "      <td>4.9</td>\n",
       "      <td>3.0</td>\n",
       "      <td>1.4</td>\n",
       "      <td>0.2</td>\n",
       "      <td>0.0</td>\n",
       "    </tr>\n",
       "    <tr>\n",
       "      <th>2</th>\n",
       "      <td>4.7</td>\n",
       "      <td>3.2</td>\n",
       "      <td>1.3</td>\n",
       "      <td>0.2</td>\n",
       "      <td>0.0</td>\n",
       "    </tr>\n",
       "    <tr>\n",
       "      <th>3</th>\n",
       "      <td>4.6</td>\n",
       "      <td>3.1</td>\n",
       "      <td>1.5</td>\n",
       "      <td>0.2</td>\n",
       "      <td>0.0</td>\n",
       "    </tr>\n",
       "    <tr>\n",
       "      <th>4</th>\n",
       "      <td>5.0</td>\n",
       "      <td>3.6</td>\n",
       "      <td>1.4</td>\n",
       "      <td>0.2</td>\n",
       "      <td>0.0</td>\n",
       "    </tr>\n",
       "  </tbody>\n",
       "</table>\n",
       "</div>"
      ],
      "text/plain": [
       "   sepal length (cm)  sepal width (cm)  petal length (cm)  petal width (cm)  \\\n",
       "0                5.1               3.5                1.4               0.2   \n",
       "1                4.9               3.0                1.4               0.2   \n",
       "2                4.7               3.2                1.3               0.2   \n",
       "3                4.6               3.1                1.5               0.2   \n",
       "4                5.0               3.6                1.4               0.2   \n",
       "\n",
       "   target  \n",
       "0     0.0  \n",
       "1     0.0  \n",
       "2     0.0  \n",
       "3     0.0  \n",
       "4     0.0  "
      ]
     },
     "execution_count": 4,
     "metadata": {},
     "output_type": "execute_result"
    }
   ],
   "source": [
    "df = pd.read_csv('../../Data/iris.csv')\n",
    "df.head()"
   ]
  },
  {
   "cell_type": "code",
   "execution_count": 5,
   "id": "0d428016-e16b-4af4-8043-4164454ec52f",
   "metadata": {},
   "outputs": [],
   "source": [
    "X = df.drop('target', axis=1).values\n",
    "y= df['target'].values"
   ]
  },
  {
   "cell_type": "code",
   "execution_count": 6,
   "id": "702dd715-4751-441d-9443-4769b71a2eee",
   "metadata": {},
   "outputs": [],
   "source": [
    "X_train, X_test, y_train, y_test = train_test_split(X, y, test_size=0.2, random_state=33)"
   ]
  },
  {
   "cell_type": "code",
   "execution_count": 7,
   "id": "f0be7a48-8320-46e4-a243-45f2cccf76c2",
   "metadata": {},
   "outputs": [],
   "source": [
    "X_train = torch.FloatTensor(X_train)\n",
    "X_test = torch.FloatTensor(X_test)\n",
    "\n",
    "y_train = torch.LongTensor(y_train)\n",
    "y_test = torch.LongTensor(y_test)"
   ]
  },
  {
   "cell_type": "code",
   "execution_count": 8,
   "id": "3744f67f-f717-4954-a51a-02558c9a26be",
   "metadata": {},
   "outputs": [],
   "source": [
    "criterion = nn.CrossEntropyLoss()\n",
    "optimizer = torch.optim.Adam(model.parameters(), lr=0.01)"
   ]
  },
  {
   "cell_type": "code",
   "execution_count": 9,
   "id": "37e3f937-1073-4fac-bc41-0840a50b65f0",
   "metadata": {},
   "outputs": [
    {
     "data": {
      "text/plain": [
       "<bound method Module.parameters of Model(\n",
       "  (fc1): Linear(in_features=4, out_features=8, bias=True)\n",
       "  (fc2): Linear(in_features=8, out_features=9, bias=True)\n",
       "  (out): Linear(in_features=9, out_features=3, bias=True)\n",
       ")>"
      ]
     },
     "execution_count": 9,
     "metadata": {},
     "output_type": "execute_result"
    }
   ],
   "source": [
    "model.parameters"
   ]
  },
  {
   "cell_type": "code",
   "execution_count": 10,
   "id": "9c913090-2ab7-4ed1-90df-ccf988e2018f",
   "metadata": {},
   "outputs": [
    {
     "name": "stdout",
     "output_type": "stream",
     "text": [
      "epoch 0 - loss: 1.1507114171981812\n",
      "epoch 10 - loss: 0.9377315640449524\n",
      "epoch 20 - loss: 0.7798256278038025\n",
      "epoch 30 - loss: 0.6099401712417603\n",
      "epoch 40 - loss: 0.40079936385154724\n",
      "epoch 50 - loss: 0.2543632686138153\n",
      "epoch 60 - loss: 0.15053054690361023\n",
      "epoch 70 - loss: 0.10086946934461594\n",
      "epoch 80 - loss: 0.08128315955400467\n",
      "epoch 90 - loss: 0.07231428474187851\n"
     ]
    }
   ],
   "source": [
    "epochs = 100\n",
    "losses = []\n",
    "\n",
    "for i in range(epochs):\n",
    "\n",
    "    y_pred = model.forward(X_train)\n",
    "    loss = criterion(y_pred, y_train)\n",
    "    losses.append(loss)\n",
    "\n",
    "    if i %10==0:\n",
    "        print(f\"epoch {i} - loss: {loss}\")\n",
    "\n",
    "    optimizer.zero_grad()\n",
    "    loss.backward()\n",
    "    optimizer.step()"
   ]
  },
  {
   "cell_type": "code",
   "execution_count": 18,
   "id": "fd233d4d-aa9f-4f1a-917b-babbb2917a65",
   "metadata": {},
   "outputs": [],
   "source": [
    "losses_values = [loss.item() for loss in losses]"
   ]
  },
  {
   "cell_type": "code",
   "execution_count": 19,
   "id": "19efd141-7b7f-4610-bc15-17dfbfe0ac62",
   "metadata": {},
   "outputs": [
    {
     "data": {
      "text/plain": [
       "[<matplotlib.lines.Line2D at 0x1cdc8c62410>]"
      ]
     },
     "execution_count": 19,
     "metadata": {},
     "output_type": "execute_result"
    },
    {
     "data": {
      "image/png": "[encoded data removed]",
      "text/plain": [
       "<Figure size 640x480 with 1 Axes>"
      ]
     },
     "metadata": {},
     "output_type": "display_data"
    }
   ],
   "source": [
    "plt.plot(range(epochs), losses_values)"
   ]
  },
  {
   "cell_type": "code",
   "execution_count": 20,
   "id": "a9935347-0a25-47cd-963c-7addc83e3fb6",
   "metadata": {},
   "outputs": [],
   "source": [
    "with torch.no_grad():\n",
    "    y_eval = model.forward(X_test)\n",
    "    loss = criterion(y_eval, y_test)"
   ]
  },
  {
   "cell_type": "code",
   "execution_count": 21,
   "id": "7e34653d-826c-4bf3-9cce-c24a55264242",
   "metadata": {},
   "outputs": [
    {
     "data": {
      "text/plain": [
       "tensor(0.0581)"
      ]
     },
     "execution_count": 21,
     "metadata": {},
     "output_type": "execute_result"
    }
   ],
   "source": [
    "loss"
   ]
  },
  {
   "cell_type": "code",
   "execution_count": 36,
   "id": "f235dc16-87bf-45f5-a459-7d49cf55a1f3",
   "metadata": {},
   "outputs": [
    {
     "name": "stdout",
     "output_type": "stream",
     "text": [
      " 1 -- tensor([-2.1252,  4.8064, -0.8628])  -- 1\n",
      " 2 -- tensor([-1.7985,  5.3098, -1.5449])  -- 1\n",
      " 3 -- tensor([  6.3542,   0.8438, -10.0541])  -- 0\n",
      " 4 -- tensor([-3.9123,  4.5958,  1.1693])  -- 1\n",
      " 5 -- tensor([-7.4713,  3.2021,  5.7853])  -- 2\n",
      " 6 -- tensor([-10.4976,   1.6459,   9.6297])  -- 2\n",
      " 7 -- tensor([  6.3201,   0.9917, -10.1532])  -- 0\n",
      " 8 -- tensor([  7.0468,   0.7059, -10.9137])  -- 0\n",
      " 9 -- tensor([-7.2061,  3.3477,  5.3565])  -- 2\n",
      " 10 -- tensor([-9.3960,  2.5759,  8.1033])  -- 2\n",
      " 11 -- tensor([-9.8808,  2.3475,  8.7141])  -- 2\n",
      " 12 -- tensor([ 6.2748,  0.6655, -9.7613])  -- 0\n",
      " 13 -- tensor([-9.3142,  2.1880,  8.1947])  -- 2\n",
      " 14 -- tensor([-3.7803,  4.5050,  1.0752])  -- 1\n",
      " 15 -- tensor([-7.8657,  3.0117,  6.2303])  -- 2\n",
      " 16 -- tensor([-1.8867,  5.1572, -1.3345])  -- 1\n",
      " 17 -- tensor([-5.7006,  3.5030,  3.6696])  -- 2\n",
      " 18 -- tensor([  7.1789,   0.7369, -11.1350])  -- 0\n",
      " 19 -- tensor([-3.2944,  4.7931,  0.3475])  -- 1\n",
      " 20 -- tensor([-7.7665,  3.7629,  5.7095])  -- 2\n",
      " 21 -- tensor([  6.6499,   0.7889, -10.4252])  -- 0\n",
      " 22 -- tensor([  7.4357,   0.8918, -11.6600])  -- 0\n",
      " 23 -- tensor([-9.7584,  2.1744,  8.6654])  -- 2\n",
      " 24 -- tensor([  6.5770,   0.7421, -10.2733])  -- 0\n",
      " 25 -- tensor([-7.4144,  2.8719,  5.9445])  -- 2\n",
      " 26 -- tensor([-6.1551,  3.4030,  4.2300])  -- 2\n",
      " 27 -- tensor([-3.1634,  4.7460,  0.2703])  -- 1\n",
      " 28 -- tensor([-1.5446,  4.9031, -1.5557])  -- 1\n",
      " 29 -- tensor([-7.4335,  3.1101,  5.7350])  -- 2\n",
      " 30 -- tensor([-6.7037,  3.1187,  4.9595])  -- 2\n"
     ]
    }
   ],
   "source": [
    "correct = 0\n",
    "\n",
    "with torch.no_grad():\n",
    "    for i, data in enumerate(X_test):\n",
    "        y_eval = model.forward(data)\n",
    "\n",
    "        print(f\" {i+1} -- {str(y_eval)}  -- {y_test[i]}\")\n",
    "\n",
    "        if torch.argmax(y_eval).item() == y_test[i]:\n",
    "            correct += 1"
   ]
  },
  {
   "cell_type": "code",
   "execution_count": 37,
   "id": "459b07d1-734c-4bc0-8e7b-04ab6bbd38dc",
   "metadata": {},
   "outputs": [
    {
     "data": {
      "text/plain": [
       "30"
      ]
     },
     "execution_count": 37,
     "metadata": {},
     "output_type": "execute_result"
    }
   ],
   "source": [
    "correct"
   ]
  },
  {
   "cell_type": "code",
   "execution_count": 38,
   "id": "8c4e7a36-0181-4ae9-a19d-21ced37190fb",
   "metadata": {},
   "outputs": [],
   "source": [
    "torch.save(model.state_dict(), \"my_iris_model.pt\")"
   ]
  },
  {
   "cell_type": "code",
   "execution_count": 39,
   "id": "c659a66c-9404-4706-a347-426b3b4b1b85",
   "metadata": {},
   "outputs": [
    {
     "data": {
      "text/plain": [
       "<All keys matched successfully>"
      ]
     },
     "execution_count": 39,
     "metadata": {},
     "output_type": "execute_result"
    }
   ],
   "source": [
    "new_model = Model()\n",
    "new_model.load_state_dict(torch.load(\"my_iris_model.pt\"))"
   ]
  },
  {
   "cell_type": "code",
   "execution_count": 40,
   "id": "74fc7970-3978-4ac2-8638-0943907c8cd1",
   "metadata": {},
   "outputs": [
    {
     "data": {
      "text/plain": [
       "Model(\n",
       "  (fc1): Linear(in_features=4, out_features=8, bias=True)\n",
       "  (fc2): Linear(in_features=8, out_features=9, bias=True)\n",
       "  (out): Linear(in_features=9, out_features=3, bias=True)\n",
       ")"
      ]
     },
     "execution_count": 40,
     "metadata": {},
     "output_type": "execute_result"
    }
   ],
   "source": [
    "new_model.eval()"
   ]
  },
  {
   "cell_type": "code",
   "execution_count": null,
   "id": "6ab9e711-454a-4f95-b13c-e94fb5de50b9",
   "metadata": {},
   "outputs": [],
   "source": []
  }
 ],
 "metadata": {
  "kernelspec": {
   "display_name": "Python 3.10",
   "language": "python",
   "name": "python310"
  },
  "language_info": {
   "codemirror_mode": {
    "name": "ipython",
    "version": 3
   },
   "file_extension": ".py",
   "mimetype": "text/x-python",
   "name": "python",
   "nbconvert_exporter": "python",
   "pygments_lexer": "ipython3",
   "version": "3.10.11"
  }
 },
 "nbformat": 4,
 "nbformat_minor": 5
}
