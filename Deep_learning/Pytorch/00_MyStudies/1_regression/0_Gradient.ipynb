{
 "cells": [
  {
   "cell_type": "code",
   "execution_count": 1,
   "id": "0e37749c-506a-4bd4-9e9b-e01b94421c74",
   "metadata": {},
   "outputs": [],
   "source": [
    "import torch"
   ]
  },
  {
   "cell_type": "markdown",
   "id": "6221adf8-db50-4a55-8696-8ad04a9db814",
   "metadata": {},
   "source": [
    "## Backpropagation 1 layes"
   ]
  },
  {
   "cell_type": "code",
   "execution_count": 12,
   "id": "7bf26caf-bec2-4f41-8e15-312df432652a",
   "metadata": {},
   "outputs": [],
   "source": [
    " x = torch.tensor(2.0, requires_grad=True)"
   ]
  },
  {
   "cell_type": "code",
   "execution_count": 4,
   "id": "cf2f1042-7024-4cdc-8250-99123c32f14a",
   "metadata": {},
   "outputs": [],
   "source": [
    "y = 2 * x**4 + x**3 + 3*x**2 + 5*x + 1"
   ]
  },
  {
   "cell_type": "code",
   "execution_count": 5,
   "id": "565f8cdf-90b2-48ef-9320-63a776f32091",
   "metadata": {},
   "outputs": [
    {
     "name": "stdout",
     "output_type": "stream",
     "text": [
      "tensor(63., grad_fn=<AddBackward0>)\n"
     ]
    }
   ],
   "source": [
    "print(y)"
   ]
  },
  {
   "cell_type": "code",
   "execution_count": 8,
   "id": "39fafc84-45cf-42ee-9436-a87a614f5528",
   "metadata": {},
   "outputs": [
    {
     "data": {
      "text/plain": [
       "63"
      ]
     },
     "execution_count": 8,
     "metadata": {},
     "output_type": "execute_result"
    }
   ],
   "source": [
    "# Function\n",
    "\n",
    "2 * (2) **4 + (2) **3 + 3*(2) **2 + 5* (2)  + 1"
   ]
  },
  {
   "cell_type": "code",
   "execution_count": 9,
   "id": "42c7810c-a2ac-416b-b949-9d735ca3327e",
   "metadata": {},
   "outputs": [],
   "source": [
    "#  Derivative\n",
    "\n",
    "y.backward()"
   ]
  },
  {
   "cell_type": "code",
   "execution_count": 10,
   "id": "141b2bd3-14ce-4f2e-9358-16aff15ae5dd",
   "metadata": {},
   "outputs": [
    {
     "data": {
      "text/plain": [
       "tensor(93.)"
      ]
     },
     "execution_count": 10,
     "metadata": {},
     "output_type": "execute_result"
    }
   ],
   "source": [
    "x.grad"
   ]
  },
  {
   "cell_type": "code",
   "execution_count": 11,
   "id": "65e99dac-d4b3-4257-954e-613ab80d4a11",
   "metadata": {},
   "outputs": [
    {
     "data": {
      "text/plain": [
       "93"
      ]
     },
     "execution_count": 11,
     "metadata": {},
     "output_type": "execute_result"
    }
   ],
   "source": [
    "8 * (2) **3 + 3 * (2) **2 + 6*(2) **1 + 5 "
   ]
  },
  {
   "cell_type": "markdown",
   "id": "a61829b0-272e-4de0-97bb-0683acae8b2e",
   "metadata": {},
   "source": [
    "## Backpropagation 2 functions"
   ]
  },
  {
   "cell_type": "code",
   "execution_count": 15,
   "id": "58718b73-5a63-4576-a5db-8e3d6ba3bd58",
   "metadata": {},
   "outputs": [
    {
     "data": {
      "text/plain": [
       "tensor([[1., 2., 3.],\n",
       "        [3., 2., 1.]], requires_grad=True)"
      ]
     },
     "execution_count": 15,
     "metadata": {},
     "output_type": "execute_result"
    }
   ],
   "source": [
    "x = torch.tensor([[1.,2.,3.], [3., 2., 1.]], requires_grad=True)\n",
    "x"
   ]
  },
  {
   "cell_type": "code",
   "execution_count": 17,
   "id": "7bcc5f02-2fa3-44a4-be29-d6f50473cafa",
   "metadata": {},
   "outputs": [
    {
     "data": {
      "text/plain": [
       "tensor([[ 5.,  8., 11.],\n",
       "        [11.,  8.,  5.]], grad_fn=<AddBackward0>)"
      ]
     },
     "execution_count": 17,
     "metadata": {},
     "output_type": "execute_result"
    }
   ],
   "source": [
    "y = 3 * x + 2\n",
    "y"
   ]
  },
  {
   "cell_type": "code",
   "execution_count": 19,
   "id": "e5ef7b4e-1fc8-42c1-b8bb-1f1490c45253",
   "metadata": {},
   "outputs": [
    {
     "data": {
      "text/plain": [
       "tensor([[ 50., 128., 242.],\n",
       "        [242., 128.,  50.]], grad_fn=<MulBackward0>)"
      ]
     },
     "execution_count": 19,
     "metadata": {},
     "output_type": "execute_result"
    }
   ],
   "source": [
    "z = 2 * y  ** 2\n",
    "z"
   ]
  },
  {
   "cell_type": "code",
   "execution_count": 20,
   "id": "d3f33059-c923-42cc-bb84-7bc03a23caee",
   "metadata": {},
   "outputs": [
    {
     "data": {
      "text/plain": [
       "tensor(140., grad_fn=<MeanBackward0>)"
      ]
     },
     "execution_count": 20,
     "metadata": {},
     "output_type": "execute_result"
    }
   ],
   "source": [
    "out = z.mean()\n",
    "out"
   ]
  },
  {
   "cell_type": "code",
   "execution_count": 22,
   "id": "2469a1d3-40f7-4033-9c60-9a78dfcb50ad",
   "metadata": {},
   "outputs": [],
   "source": [
    "out.backward()"
   ]
  },
  {
   "cell_type": "code",
   "execution_count": 23,
   "id": "0bf8bef0-cd62-4a13-8998-6dc2e7fa4a43",
   "metadata": {},
   "outputs": [
    {
     "data": {
      "text/plain": [
       "tensor([[10., 16., 22.],\n",
       "        [22., 16., 10.]])"
      ]
     },
     "execution_count": 23,
     "metadata": {},
     "output_type": "execute_result"
    }
   ],
   "source": [
    "x.grad"
   ]
  },
  {
   "cell_type": "code",
   "execution_count": null,
   "id": "b69454dc-7abe-4a4c-be8f-4bcfbc0d878e",
   "metadata": {},
   "outputs": [],
   "source": []
  }
 ],
 "metadata": {
  "kernelspec": {
   "display_name": "Python 3.10",
   "language": "python",
   "name": "python310"
  },
  "language_info": {
   "codemirror_mode": {
    "name": "ipython",
    "version": 3
   },
   "file_extension": ".py",
   "mimetype": "text/x-python",
   "name": "python",
   "nbconvert_exporter": "python",
   "pygments_lexer": "ipython3",
   "version": "3.10.11"
  }
 },
 "nbformat": 4,
 "nbformat_minor": 5
}
