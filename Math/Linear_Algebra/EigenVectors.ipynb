{
 "cells": [
  {
   "cell_type": "code",
   "execution_count": 1,
   "id": "eb3a8d25-208e-4a3d-9789-6559f8cfbdc7",
   "metadata": {},
   "outputs": [],
   "source": [
    "import numpy as np"
   ]
  },
  {
   "cell_type": "code",
   "execution_count": 19,
   "id": "e7d5c503-94c7-4522-b582-ff5d111929c2",
   "metadata": {},
   "outputs": [
    {
     "name": "stdout",
     "output_type": "stream",
     "text": [
      "The rank of the matrix T is: 2\n"
     ]
    }
   ],
   "source": [
    "T = np.array([\n",
    "    [1, 3, -4],\n",
    "    [2, -1, -3],\n",
    "    [4, 5, -11]\n",
    "])\n",
    "\n",
    "# Calculate the rank\n",
    "rank = np.linalg.matrix_rank(T)\n",
    "print(f\"The rank of the matrix T is: {rank}\")"
   ]
  },
  {
   "cell_type": "code",
   "execution_count": 20,
   "id": "dd8631bb-1ac0-4e71-a518-ea29ec5345ca",
   "metadata": {},
   "outputs": [
    {
     "name": "stdout",
     "output_type": "stream",
     "text": [
      "The rank of the matrix T is: 2\n"
     ]
    }
   ],
   "source": [
    "T = np.array([\n",
    "    [1, 2, 4],\n",
    "    [3, -1, 5],\n",
    "    [-4, -3, -11]\n",
    "])\n",
    "\n",
    "# Calculate the rank\n",
    "rank = np.linalg.matrix_rank(T)\n",
    "print(f\"The rank of the matrix T is: {rank}\")"
   ]
  },
  {
   "cell_type": "code",
   "execution_count": 5,
   "id": "25c622bf-d847-4e92-89f9-e3386bbeb64a",
   "metadata": {},
   "outputs": [],
   "source": [
    "M = np.array([\n",
    "    [1, 0, 1],\n",
    "    [0, 1, 0],\n",
    "    [1, 1, 1]\n",
    "])\n",
    "\n",
    "N = np.array([\n",
    "    [2, 8, 7],\n",
    "    [4, 3, 9],\n",
    "    [1, 9, 5]\n",
    "])"
   ]
  },
  {
   "cell_type": "code",
   "execution_count": 9,
   "id": "47669af1-c9eb-40f6-a3d1-c8882ab4b46f",
   "metadata": {},
   "outputs": [
    {
     "data": {
      "text/plain": [
       "0.0"
      ]
     },
     "execution_count": 9,
     "metadata": {},
     "output_type": "execute_result"
    }
   ],
   "source": [
    "matrix = M.dot(N)\n",
    "determinant = np.linalg.det(matrix)\n",
    "determinant"
   ]
  },
  {
   "cell_type": "code",
   "execution_count": 12,
   "id": "07891515-95b3-4a8d-9799-7fd56b2a70ee",
   "metadata": {},
   "outputs": [
    {
     "data": {
      "text/plain": [
       "0.0"
      ]
     },
     "execution_count": 12,
     "metadata": {},
     "output_type": "execute_result"
    }
   ],
   "source": [
    "np.linalg.det(M) * np.linalg.det(N)"
   ]
  },
  {
   "cell_type": "code",
   "execution_count": 18,
   "id": "05601c3c-774d-4235-bc25-c0935a88c853",
   "metadata": {},
   "outputs": [
    {
     "name": "stdout",
     "output_type": "stream",
     "text": [
      "The rank of the matrix A is: 3\n",
      "Determinant: 1.0\n"
     ]
    }
   ],
   "source": [
    "A = np.array([\n",
    "    [2, 1, 1],\n",
    "    [1, 0, 2],\n",
    "    [1, 0, 1]\n",
    "])\n",
    "\n",
    "# Calculate the rank\n",
    "rank = np.linalg.matrix_rank(A)\n",
    "det = np.linalg.det(A)\n",
    "\n",
    "print(f\"The rank of the matrix A is: {rank}\")\n",
    "print(f\"Determinant: {det}\")"
   ]
  },
  {
   "cell_type": "code",
   "execution_count": 21,
   "id": "2f8b92fd-39d3-4aab-bf27-a49559fbfa07",
   "metadata": {},
   "outputs": [],
   "source": [
    "def show_rank_and_det(M):\n",
    "    # Calculate the rank\n",
    "    rank = np.linalg.matrix_rank(M)\n",
    "    det = np.linalg.det(M)\n",
    "    print(f\"The rank of the matrix M is: {rank}\")\n",
    "    print(f\"Determinant: {det}\")\n",
    "    "
   ]
  },
  {
   "cell_type": "code",
   "execution_count": 22,
   "id": "4c77add8-3c19-43a6-91f4-afe30c8ae663",
   "metadata": {},
   "outputs": [
    {
     "name": "stdout",
     "output_type": "stream",
     "text": [
      "The rank of the matrix M is: 2\n",
      "Determinant: 0.0\n"
     ]
    }
   ],
   "source": [
    "M1 = np.array([\n",
    "    [-1, 2, 1],\n",
    "    [1, 2, 2],\n",
    "    [1, 6, 5]\n",
    "])\n",
    "show_rank_and_det(M1)"
   ]
  },
  {
   "cell_type": "code",
   "execution_count": 23,
   "id": "9ae88f70-7f53-4343-9a48-f116b11319dc",
   "metadata": {},
   "outputs": [
    {
     "name": "stdout",
     "output_type": "stream",
     "text": [
      "The rank of the matrix M is: 3\n",
      "Determinant: -1.0\n"
     ]
    }
   ],
   "source": [
    "M2 = np.array([\n",
    "    [1, 0, 1],\n",
    "    [0, 1, 0],\n",
    "    [1, 0, 0]\n",
    "])\n",
    "show_rank_and_det(M2)"
   ]
  },
  {
   "cell_type": "code",
   "execution_count": 24,
   "id": "72fa6d30-5e49-4b12-a30b-e55e3745becf",
   "metadata": {},
   "outputs": [
    {
     "name": "stdout",
     "output_type": "stream",
     "text": [
      "The rank of the matrix M is: 3\n",
      "Determinant: -15.999999999999998\n"
     ]
    }
   ],
   "source": [
    "M3 = np.array([\n",
    "    [2, 3, 1],\n",
    "    [0, 2.5, 3.5],\n",
    "    [0, 5.5, 4.5]\n",
    "])\n",
    "show_rank_and_det(M3)"
   ]
  },
  {
   "cell_type": "code",
   "execution_count": 25,
   "id": "c2db1920-452f-4dcd-95be-cb571fb0f330",
   "metadata": {},
   "outputs": [
    {
     "name": "stdout",
     "output_type": "stream",
     "text": [
      "The rank of the matrix M is: 3\n",
      "Determinant: -2.0\n"
     ]
    }
   ],
   "source": [
    "M4 = np.array([\n",
    "    [-1, 2, 1],\n",
    "    [1, 2, 2],\n",
    "    [1, 0, 1]\n",
    "])\n",
    "show_rank_and_det(M4)"
   ]
  },
  {
   "cell_type": "code",
   "execution_count": 26,
   "id": "cfeecbea-a250-4a91-aa3d-82b5d8b42668",
   "metadata": {},
   "outputs": [
    {
     "name": "stdout",
     "output_type": "stream",
     "text": [
      "The rank of the matrix M is: 3\n",
      "Determinant: -18.999999999999996\n"
     ]
    }
   ],
   "source": [
    "M5 = np.array([\n",
    "    [2, 3, 1],\n",
    "    [0, -1, 2],\n",
    "    [-1, 1, 4]\n",
    "])\n",
    "show_rank_and_det(M5)"
   ]
  },
  {
   "cell_type": "code",
   "execution_count": 73,
   "id": "67928f17-e828-4f3b-b9ad-184d03fb7ca6",
   "metadata": {},
   "outputs": [
    {
     "data": {
      "text/plain": [
       "array([[ 0.5, -1.5],\n",
       "       [-1.5,  4.5]])"
      ]
     },
     "execution_count": 73,
     "metadata": {},
     "output_type": "execute_result"
    }
   ],
   "source": [
    "M = np.array([\n",
    "    [3, 2],\n",
    "    [5, 8]\n",
    "])\n",
    "\n",
    "np.cov(M)"
   ]
  },
  {
   "cell_type": "code",
   "execution_count": 74,
   "id": "89604b73-4ddf-4365-87f6-28473b29862c",
   "metadata": {},
   "outputs": [
    {
     "data": {
      "text/plain": [
       "array([[ 2.,  6.],\n",
       "       [ 6., 18.]])"
      ]
     },
     "execution_count": 74,
     "metadata": {},
     "output_type": "execute_result"
    }
   ],
   "source": [
    "M = np.array([\n",
    "    [3, 2],\n",
    "    [5, 8]\n",
    "])\n",
    "\n",
    "means = np.mean(M, axis=0)\n",
    "\n",
    "centered_matrix = M - means\n",
    "\n",
    "n = M.shape[0]\n",
    "C = 1/(n-1) * (centered_matrix.T).dot(centered_matrix)\n",
    "C"
   ]
  },
  {
   "cell_type": "code",
   "execution_count": null,
   "id": "07bda757-97cf-482f-aa0c-c8be8e173966",
   "metadata": {},
   "outputs": [],
   "source": []
  }
 ],
 "metadata": {
  "kernelspec": {
   "display_name": "Python 3.10",
   "language": "python",
   "name": "python310"
  },
  "language_info": {
   "codemirror_mode": {
    "name": "ipython",
    "version": 3
   },
   "file_extension": ".py",
   "mimetype": "text/x-python",
   "name": "python",
   "nbconvert_exporter": "python",
   "pygments_lexer": "ipython3",
   "version": "3.10.11"
  }
 },
 "nbformat": 4,
 "nbformat_minor": 5
}
